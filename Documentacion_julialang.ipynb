{
 "cells": [
  {
   "cell_type": "markdown",
   "id": "59fa5235-0c34-4858-8479-599185271521",
   "metadata": {},
   "source": [
    "#  ¡Aventuras en JuliaLang: Un viaje al mundo de la programación!"
   ]
  },
  {
   "cell_type": "markdown",
   "id": "e0dd23d0-0be2-4b6b-9dc9-bcb1c72e87e6",
   "metadata": {
    "jp-MarkdownHeadingCollapsed": true
   },
   "source": [
    "## Introducción"
   ]
  },
  {
   "cell_type": "markdown",
   "id": "35ac6f64-8e18-44ea-9864-44e0ebfd079d",
   "metadata": {},
   "source": [
    "**¡Hola, exploradores!** JuliaLang es un lenguaje de programación genial usada para la computación científica, técnica y genérica, contando con un conjunto de herramientas mágicas que nos permiten crear cosas increíbles con nuestra computadora."
   ]
  },
  {
   "cell_type": "markdown",
   "id": "9337887f-2deb-4d88-ad01-d41207888020",
   "metadata": {},
   "source": [
    "#### ¿Qué aprenderemos aquí? "
   ]
  },
  {
   "cell_type": "markdown",
   "id": "8738217a-f7b1-4df7-8e2e-60e87411f7c2",
   "metadata": {},
   "source": [
    "En esta documentación, aprenderemos a darle instrucciones a la computadora usando JuliaLang. **¡Es como aprender un idioma nuevo para hablar con las máquinas!**"
   ]
  },
  {
   "cell_type": "markdown",
   "id": "123dcc22-3a68-47b3-8818-b2ed622196e5",
   "metadata": {
    "jp-MarkdownHeadingCollapsed": true
   },
   "source": [
    "## Capitulo 1: **¡Nuestro primer \"Hola, Mundo!\"**"
   ]
  },
  {
   "cell_type": "markdown",
   "id": "af7595b3-4edf-4171-bee4-cf1ab542aa44",
   "metadata": {},
   "source": [
    "**¡Vamos a darle una orden a la computadora!** La primera orden que aprenderemos es a decirle \"Hola, Mundo!\"."
   ]
  },
  {
   "cell_type": "code",
   "execution_count": 1,
   "id": "7f8cf873-5e84-4df2-8f2a-531a6cbad19a",
   "metadata": {},
   "outputs": [
    {
     "name": "stdout",
     "output_type": "stream",
     "text": [
      "¡Hola, Mundo!\n"
     ]
    }
   ],
   "source": [
    "println(\"¡Hola, Mundo!\")"
   ]
  },
  {
   "cell_type": "markdown",
   "id": "d594174e-200c-431a-9b21-1038c94f382c",
   "metadata": {},
   "source": [
    "+ `println` es una función que imprime texto en la pantalla.\n",
    "\n",
    "+ `\"¡Hola, Mundo!\"` es el mensaje que queremos mostrar.\n",
    "\n",
    "**¡Inténtalo!** Cambia el mensaje y ejecuta la celda para ver qué pasa."
   ]
  },
  {
   "cell_type": "markdown",
   "id": "cb09194b-6c38-4d45-8009-4584bba9e0cc",
   "metadata": {
    "jp-MarkdownHeadingCollapsed": true
   },
   "source": [
    "## Capítulo 2: **¡Números y operaciones matemáticas!**"
   ]
  },
  {
   "cell_type": "markdown",
   "id": "5f8c9d50-2203-4f89-a357-83b47838a7f0",
   "metadata": {},
   "source": [
    "**¡JuliaLang es un genio para las matemáticas!** Aprenderemos a usar JuliaLang para realizar operaciones matemáticas básicas como sumar, restar, multiplicar y dividir.\n",
    "\n",
    "**¡A jugar con los números!** Realizaremos ejercicios divertidos con números y operaciones matemáticas."
   ]
  },
  {
   "cell_type": "markdown",
   "id": "365b132c-c2a0-4b75-a33c-18ef02826585",
   "metadata": {
    "jp-MarkdownHeadingCollapsed": true
   },
   "source": [
    "### Sumar y restar"
   ]
  },
  {
   "cell_type": "code",
   "execution_count": 4,
   "id": "82d6132f-ee17-498d-abdc-b037435e016e",
   "metadata": {},
   "outputs": [
    {
     "name": "stdout",
     "output_type": "stream",
     "text": [
      "8\n",
      "8\n"
     ]
    }
   ],
   "source": [
    "println(5 + 3)   # Esto suma 5 y 3\n",
    "println(10 - 2)  # Esto resta 2 de 10"
   ]
  },
  {
   "cell_type": "markdown",
   "id": "62070bd7-84b6-4c6a-bda4-5e7e279eea28",
   "metadata": {
    "jp-MarkdownHeadingCollapsed": true
   },
   "source": [
    "### Multiplicar y dividir"
   ]
  },
  {
   "cell_type": "code",
   "execution_count": null,
   "id": "82a7af9b-d1b3-4ba7-8a22-9c14f4631938",
   "metadata": {},
   "outputs": [],
   "source": [
    "println(4 * 2)   # Esto multiplica 4 por 2\n",
    "println(8 / 2)   # Esto divide 8 entre 2"
   ]
  },
  {
   "cell_type": "markdown",
   "id": "dc54047b-0dbf-47d4-81a0-1968719d6208",
   "metadata": {},
   "source": [
    "### **¡Tu turno!** Cambia los números y haz tus propias operaciones."
   ]
  },
  {
   "cell_type": "markdown",
   "id": "42023468-83f1-4264-bde0-c9017dbc7a0a",
   "metadata": {
    "jp-MarkdownHeadingCollapsed": true
   },
   "source": [
    "## Capítulo 3: **¡Variables: como cajas para guardar cosas!**"
   ]
  },
  {
   "cell_type": "markdown",
   "id": "544748a3-a751-4741-9972-cab6f79450f4",
   "metadata": {},
   "source": [
    "**¡Imaginemos que las variables son como cajas!** Podemos guardar cosas (números, palabras, etc.) dentro de estas cajas y usarlas cuando las necesitemos.\n",
    "\n",
    "**¡A crear nuestras cajas!** Aprenderemos a crear variables en JuliaLang y a guardar diferentes tipos de información en ellas."
   ]
  },
  {
   "cell_type": "markdown",
   "id": "ae3b3620-665c-4c39-8376-714d74935806",
   "metadata": {},
   "source": [
    "+ **Enteros (Int):** Números sin decimales."
   ]
  },
  {
   "cell_type": "code",
   "execution_count": null,
   "id": "e39ca355-b839-403a-b23a-9ff4bb6b49e8",
   "metadata": {},
   "outputs": [],
   "source": [
    "mi_entero = 42 ## valor entero\n",
    "println(\"Entero: \", mi_entero) ## muestra lo que hay dentro de las variables"
   ]
  },
  {
   "cell_type": "markdown",
   "id": "c9904c71-5920-4208-b583-a2fb15f2f071",
   "metadata": {},
   "source": [
    "+ **Decimales (Float):** Números con decimales."
   ]
  },
  {
   "cell_type": "code",
   "execution_count": null,
   "id": "8a1b8987-96f9-4742-a5be-55f4a4dd07e0",
   "metadata": {},
   "outputs": [],
   "source": [
    "mi_decimal = 3.14 ##valor decimal\n",
    "println(\"Decimal: \", mi_decimal)"
   ]
  },
  {
   "cell_type": "markdown",
   "id": "25430857-b5f9-44e3-89ec-5a875847efb9",
   "metadata": {},
   "source": [
    "+ **Números Complejos (Complex):** Números con parte real e imaginaria."
   ]
  },
  {
   "cell_type": "code",
   "execution_count": null,
   "id": "c5d5e19e-c244-49ef-a910-2e96eea50fbc",
   "metadata": {},
   "outputs": [],
   "source": [
    "mi_complejo = 4 + 3im ## valor imaginario\n",
    "println(\"Complejo: \", mi_complejo)"
   ]
  },
  {
   "cell_type": "markdown",
   "id": "4e7d2365-7319-4f69-b281-b96004ab67ee",
   "metadata": {},
   "source": [
    "+ **Cadenas de texto:** Palabras o frases entre comillas."
   ]
  },
  {
   "cell_type": "code",
   "execution_count": null,
   "id": "1e830ba7-074e-4125-be31-41cf172c6afe",
   "metadata": {},
   "outputs": [],
   "source": [
    "mi_texto = \"¡Hola, Julia!\" # Texto\n",
    "println(\"Texto: \", mi_texto)"
   ]
  },
  {
   "cell_type": "markdown",
   "id": "834d902c-0902-47c4-9ab9-39faeb5726dc",
   "metadata": {},
   "source": [
    "+ **Valores booleanos:** true (verdadero) o false (falso)."
   ]
  },
  {
   "cell_type": "code",
   "execution_count": 7,
   "id": "ea385708-f4f1-4d8a-8207-35ff792d7dfc",
   "metadata": {},
   "outputs": [
    {
     "name": "stdout",
     "output_type": "stream",
     "text": [
      "¿Julia es divertido? true\n"
     ]
    }
   ],
   "source": [
    "es_divertido = true  # Booleano\n",
    "println(\"¿Julia es divertido? \", es_divertido)"
   ]
  },
  {
   "cell_type": "markdown",
   "id": "902b9506-a281-43ef-8e95-ae4d855af627",
   "metadata": {
    "jp-MarkdownHeadingCollapsed": true
   },
   "source": [
    "## Capítulo 5: **¡Condicionales: tomando decisiones!**"
   ]
  },
  {
   "cell_type": "markdown",
   "id": "23bf566d-7e0f-40f8-bba1-0dc60e55824f",
   "metadata": {},
   "source": [
    "**!Nuestros programas pueden tomar decisiones!** Usando \"condicionales\", podemos hacer que nuestros programas hagan cosas diferentes dependiendo de ciertas condiciones.\n",
    "\n",
    "**¡Es como un juego de \"Si... Entonces...\"!** Aprenderemos a usar condicionales para crear juegos interactivos y programas que se adapten a diferentes situaciones."
   ]
  },
  {
   "cell_type": "code",
   "execution_count": null,
   "id": "85cea3f5-3897-41a1-86f3-b1e805a764b8",
   "metadata": {},
   "outputs": [],
   "source": [
    "edad = 10 ## variable entera(int)\n",
    "\n",
    "if edad >= 10   ## Si edad es mayor o igual a 10, muestra \"¡Puedes jugar!\" \n",
    "    println(\"¡Puedes jugar!\")\n",
    "else ## Si no, muestra \"Lo siento, eres demasiado joven.\"\n",
    "    println(\"Lo siento, eres demasiado joven.\")\n",
    "end"
   ]
  },
  {
   "cell_type": "markdown",
   "id": "7482cc50-ba96-4ec0-896e-d5cf5025a287",
   "metadata": {},
   "source": [
    "**¡Tu turno!** Cambia el valor de edad y ve qué pas"
   ]
  },
  {
   "cell_type": "markdown",
   "id": "2d699a95-2f8b-47ef-9998-5da77a15020f",
   "metadata": {
    "jp-MarkdownHeadingCollapsed": true
   },
   "source": [
    "## Capítulo 6: **¡Bucles: repitiendo acciones!**"
   ]
  },
  {
   "cell_type": "markdown",
   "id": "50f4d582-f26a-4686-a4df-da442078cf23",
   "metadata": {},
   "source": [
    "**¡Podemos hacer que nuestros programas repitan acciones!** Usando \"bucles\", podemos repetir un bloque de código varias veces sin tener que escribirlo una y otra vez.\n",
    "\n",
    "**¡Es como un bucle en una montaña rusa!** Aprenderemos a usar bucles para automatizar tareas repetitivas y crear programas más eficientes."
   ]
  },
  {
   "cell_type": "code",
   "execution_count": null,
   "id": "1bf4328c-d884-42d1-bf69-58363bfbd330",
   "metadata": {},
   "outputs": [],
   "source": [
    "for i in 1:5  ## i toma los valores del 1 al 5\n",
    "    println(\"Número: \", i) ## se repite el código dentro del bucle 5 veces\n",
    "end"
   ]
  },
  {
   "cell_type": "markdown",
   "id": "8a536e07-2d26-4977-a90f-d5541918c1da",
   "metadata": {},
   "source": [
    "**¡Inténtalo!** Cambia el rango del bucle (por ejemplo, 1:10)."
   ]
  },
  {
   "cell_type": "markdown",
   "id": "dee2f843-0cef-470d-8461-63552740ae20",
   "metadata": {
    "jp-MarkdownHeadingCollapsed": true
   },
   "source": [
    "## Capítulo 7: **¡Funciones: creando nuestros propios comandos!**"
   ]
  },
  {
   "cell_type": "markdown",
   "id": "db49f6bb-a1cc-477c-9f59-994ea3cafae1",
   "metadata": {},
   "source": [
    "¡Podemos crear nuestros propios comandos! Usando \"funciones\", podemos agrupar un conjunto de instrucciones en un solo comando y reutilizarlo cuando lo necesitemos.\n"
   ]
  },
  {
   "cell_type": "code",
   "execution_count": null,
   "id": "a58252f1-f22a-4004-8921-c3e671a64364",
   "metadata": {},
   "outputs": [],
   "source": [
    "##saludar es una función que toma un nombre y muestra un saludo.\n",
    "\n",
    "function saludar(nombre) ##\n",
    "    println(\"¡Hola, \", nombre, \"!\")\n",
    "end\n",
    "\n",
    "## Puedes usar la función muchas veces con diferentes nombres.\n",
    "saludar(\"Ana\") ## llama a la funcion y le pasa el nombre \"Ana\"\n",
    "saludar(\"Luis\") ## llama a la funcion y le pasa el nombre \"Luis\""
   ]
  },
  {
   "cell_type": "markdown",
   "id": "c75ae190-f9db-4673-ac17-9a719aff6161",
   "metadata": {},
   "source": [
    "**¡Es como crear nuestros propios hechizos mágicos!** Aprenderemos a crear funciones para hacer nuestros programas más modulares y fáciles de entender.\n",
    "\n",
    "**¡Inténtalo!** Crea una función que sume dos números."
   ]
  },
  {
   "cell_type": "markdown",
   "id": "53705fdd-244c-4a48-9dcf-42b22a8c5909",
   "metadata": {
    "jp-MarkdownHeadingCollapsed": true
   },
   "source": [
    "## Capítulo 8: **¡Arrays: colecciones de cosas!**"
   ]
  },
  {
   "cell_type": "code",
   "execution_count": 8,
   "id": "d1f308cc-4e53-4eec-93f7-fe1ff7825a79",
   "metadata": {},
   "outputs": [
    {
     "name": "stdout",
     "output_type": "stream",
     "text": [
      "[1, 2, 3, 4, 5]\n"
     ]
    }
   ],
   "source": [
    "mi_lista = [1, 2, 3, 4, 5] ## guarda los números del 1 al 5.\n",
    "println(mi_lista) ## muestra toda la lista"
   ]
  },
  {
   "cell_type": "markdown",
   "id": "5a194342-73ba-4b5d-92aa-4979cedcd78a",
   "metadata": {},
   "source": [
    "**¡Mira, es como una caja llena de juguetes!** esto te ayudara ha almacenar listas de números, palabras, etc."
   ]
  },
  {
   "cell_type": "markdown",
   "id": "6471c82a-6832-43b4-8924-1c03b3552b09",
   "metadata": {},
   "source": [
    "**¡Tu turno!** Crea una lista con tus números favoritos."
   ]
  },
  {
   "cell_type": "markdown",
   "id": "106941d6-4035-4d97-866a-f98383048d42",
   "metadata": {
    "jp-MarkdownHeadingCollapsed": true
   },
   "source": [
    "## Capítulo 9: **¡Diccionarios: como un diccionario de verdad!**"
   ]
  },
  {
   "cell_type": "markdown",
   "id": "4238ec58-d670-40bc-91b7-70c8a5379eff",
   "metadata": {},
   "source": [
    "**¡Podemos buscar cosas por su nombre!** Usando \"diccionarios\", podemos asociar un valor a una clave y buscarlo fácilmente por su nombre.\n",
    "\n",
    "**Una clave:** Es como una etiqueta que usas para identificar el valor.\n",
    "\n",
    "**Un valor:** Es la información que quieres almacenar."
   ]
  },
  {
   "cell_type": "code",
   "execution_count": 9,
   "id": "a7269389-ce94-47c9-8781-a2889e347f4e",
   "metadata": {},
   "outputs": [
    {
     "name": "stdout",
     "output_type": "stream",
     "text": [
      "Diccionario: Dict{String, Any}(\"ciudad\" => \"Madrid\", \"edad\" => 10, \"nombre\" => \"Ana\")\n"
     ]
    }
   ],
   "source": [
    "## \"nombre\", \"edad\" y \"ciudad\" son las claves.\n",
    "\n",
    "## \"Ana\", 10 y \"Madrid\" son los valores.\n",
    "\n",
    "## El operador => se usa para unir cada clave con su valor.\n",
    "\n",
    "mi_diccionario = Dict(\"nombre\" => \"Ana\", \"edad\" => 10, \"ciudad\" => \"Madrid\")\n",
    "\n",
    "println(\"Diccionario: \", mi_diccionario)"
   ]
  },
  {
   "cell_type": "markdown",
   "id": "96538290-5293-42e4-95fb-6b7e4649fdda",
   "metadata": {
    "jp-MarkdownHeadingCollapsed": true
   },
   "source": [
    "## Capítulo 10: **¡Proyectos divertidos con JuliaLang!**"
   ]
  },
  {
   "cell_type": "markdown",
   "id": "eb6db7bb-5eba-4527-af6c-0a1b64bfb6d7",
   "metadata": {},
   "source": [
    "**¡hora de apliacar lo aprendido!**\n",
    "\n",
    "**Objetivo**\n",
    "Crear un programa que convierta la edad de una mascota (en años de mascota) a su equivalente en años humanos. Por ejemplo, si un perro tiene 2 años, en años humanos podría tener 24 años (dependiendo de la raza).\n",
    "\n",
    "**Características Divertidas**\n",
    "\n",
    "+ Si la edad humana es menor a 10, el programa dirá: \"¡Tu mascota es un bebé! 🍼\".\n",
    "\n",
    "+ Si la edad humana es menor a 20, dirá: \"¡Tu mascota es un adolescente! 🎸\".\n",
    "\n",
    "+ Si la edad humana es 20 o más, dirá: \"¡Tu mascota es un adulto! 🧑‍💼\"."
   ]
  },
  {
   "cell_type": "code",
   "execution_count": null,
   "id": "ece26f98-0ed6-4490-911d-66fc3d275b49",
   "metadata": {},
   "outputs": [],
   "source": [
    "## copia tu codigo aquí"
   ]
  },
  {
   "cell_type": "markdown",
   "id": "bf31995f-e98f-4397-937e-951c14b83273",
   "metadata": {
    "jp-MarkdownHeadingCollapsed": true
   },
   "source": [
    "### Resolución: "
   ]
  },
  {
   "cell_type": "code",
   "execution_count": 10,
   "id": "31051cbe-8a53-4710-aff3-1dfb1a247f73",
   "metadata": {},
   "outputs": [
    {
     "name": "stdout",
     "output_type": "stream",
     "text": [
      "¿Cuántos años tiene tu mascota? "
     ]
    },
    {
     "name": "stdin",
     "output_type": "stream",
     "text": [
      "stdin>  4\n"
     ]
    },
    {
     "name": "stdout",
     "output_type": "stream",
     "text": [
      "\n",
      "¡Tu mascota es un adulto! 🧑‍💼\n",
      "¡Ya es toda una persona responsable!\n"
     ]
    }
   ],
   "source": [
    "# Preguntar la edad de la mascota\n",
    "print(\"¿Cuántos años tiene tu mascota? \")\n",
    "edad_mascota = parse(Int, readline())\n",
    "\n",
    "# Calcular la edad en años humanos\n",
    "edad_humana = edad_mascota * 7\n",
    "\n",
    "# Mostrar el resultado\n",
    "if edad_humana < 10\n",
    "    println(\"\\n¡Tu mascota es un bebé! 🍼\")\n",
    "    println(\"¡Aún tiene mucho por crecer y aprender!\")\n",
    "elseif edad_humana < 20\n",
    "    println(\"\\n¡Tu mascota es un adolescente! 🎸\")\n",
    "    println(\"¡Está llena de energía y curiosidad!\")\n",
    "else\n",
    "    println(\"\\n¡Tu mascota es un adulto! 🧑‍💼\")\n",
    "    println(\"¡Ya es toda una persona responsable!\")\n",
    "end"
   ]
  }
 ],
 "metadata": {
  "kernelspec": {
   "display_name": "Julia 1.11.3",
   "language": "julia",
   "name": "julia-1.11"
  },
  "language_info": {
   "file_extension": ".jl",
   "mimetype": "application/julia",
   "name": "julia",
   "version": "1.11.3"
  }
 },
 "nbformat": 4,
 "nbformat_minor": 5
}
