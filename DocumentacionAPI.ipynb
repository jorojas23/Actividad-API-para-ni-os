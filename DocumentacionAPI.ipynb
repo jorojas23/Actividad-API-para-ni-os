{
 "cells": [
  {
   "cell_type": "markdown",
   "id": "ff0e3235-388c-400a-bc12-f3a106be5928",
   "metadata": {},
   "source": [
    "# **¡Crea tu propio \"camarero\" digital con FastAPI!**"
   ]
  },
  {
   "cell_type": "markdown",
   "id": "7982aea1-1db2-491c-b138-7aedf76ed319",
   "metadata": {},
   "source": [
    "¡Hola, pequeños programadores! ¿Alguna vez se preguntaron cómo funcionan las aplicaciones que usan todos los días? ¡Pues hoy vamos a construir nuestra propia aplicación!\n",
    "\n",
    "Imagina que eres el dueño de un restaurante y necesitas un \"camarero\" muy especial que sepa hablar con las computadoras. ¡Ese camarero es una API!\n",
    "\n",
    "Con FastAPI, vamos a crear un \"camarero\" digital que puede recibir pedidos (solicitudes) y llevarlos a la \"cocina\" (servidor) para que preparen la comida (respuesta)."
   ]
  },
  {
   "cell_type": "markdown",
   "id": "9a34e144-9fae-43f8-ae3e-d6f03a79d3a4",
   "metadata": {
    "jp-MarkdownHeadingCollapsed": true
   },
   "source": [
    "## **¿Qué es una API🤵?** "
   ]
  },
  {
   "cell_type": "markdown",
   "id": "10133938-43e8-43c1-806e-4f2e50f4795b",
   "metadata": {},
   "source": [
    "Una API es la abreviatura de \"interfaz de programación de aplicaciones\" (Application Programming Interface) que se trata de un conjunto de definiciones y protocolos,permitiendo la comunicación entre dos aplicaciones de software a través de un conjunto de reglas.\n",
    "\n",
    "Se puede ver como un \"camarero\" que sabe cómo comunicarse con la \"cocina\" de un restaurante, si el cliente (tú) le hace un pedido (solicitud) al camarero (API), el camarero se lo lleva a la cocina (servidor), que prepara la comida (respuesta) y se la entrega al camarero (API), quien te la lleva a ti."
   ]
  },
  {
   "cell_type": "markdown",
   "id": "fb6e3e0c-e2d0-4c3d-8e07-8c7b6f74b489",
   "metadata": {
    "jp-MarkdownHeadingCollapsed": true
   },
   "source": [
    "## **¿Qué es FastAPI⚡?**"
   ]
  },
  {
   "cell_type": "markdown",
   "id": "22f2921c-b2f9-464c-942b-442763587fee",
   "metadata": {},
   "source": [
    "es un framework web de Python que permite crear aplicaciones web de forma rápida y eficiente, siendo este como un chef muy rápido y eficiente que nos ayuda a construir \"camareros\" digitales increíbles.\n",
    "\n",
    "+ **Es súper rápido:** FastAPI es como un chef velocista. Puede preparar la comida (respuestas) casi tan rápido como un rayo. ¡Los clientes (usuarios) no tendrán que esperar mucho tiempo!\n",
    "\n",
    "+ **Hace la documentación automática:** FastAPI es como un chef muy organizado. Escribe un libro de recetas (documentación) automáticamente para que todos sepan qué tipo de comida (respuestas) puede preparar. ¡Es como tener un menú interactivo!\n",
    "\n",
    "+ **Es muy cuidadoso con los ingredientes:** FastAPI es como un chef que revisa cuidadosamente cada ingrediente (datos) antes de cocinar. Si algo no está bien, él te avisa para que puedas corregirlo. ¡Así nos aseguramos de que la comida (respuestas) sea perfecta!\n",
    "\n",
    "+ **Entiende muchos idiomas:** FastAPI habla el idioma de Python, que es un lenguaje de programación muy popular. ¡Es como un chef que sabe cocinar platos de diferentes países!"
   ]
  },
  {
   "cell_type": "markdown",
   "id": "1c1b7e55-2fd1-4846-ac0c-985ee1c15b8e",
   "metadata": {},
   "source": [
    "## **Instalación de FastAPI⚡:**"
   ]
  },
  {
   "cell_type": "markdown",
   "id": "c89e8234-64df-4eec-98e4-7d5bdcd035c5",
   "metadata": {},
   "source": [
    "Antes de empezar a cocinar, necesitamos los ingredientes. Vamos a instalar FastAPI:\n",
    "1. Abre la terminal o línea de comandos.\n",
    "2. **Escribe:** `pip install fastapi uvicorn`\n",
    "3. **¡Listo!** Ya tenemos los ingredientes para crear nuestro \"camarero\" digital."
   ]
  },
  {
   "cell_type": "markdown",
   "id": "12423e97-1eb7-4bce-93b2-47cf423b08ab",
   "metadata": {},
   "source": [
    "## **Creación de la primera API:**"
   ]
  },
  {
   "cell_type": "markdown",
   "id": "ee0b063b-4f28-4437-aea2-3113cf741237",
   "metadata": {},
   "source": [
    "¡Es hora de crear nuestro primer \"camarero\"! Vamos a hacer que diga \"Hola Mundo\":"
   ]
  },
  {
   "cell_type": "code",
   "execution_count": null,
   "id": "ee29f461-041f-40b6-a621-1018d1096881",
   "metadata": {},
   "outputs": [
    {
     "name": "stderr",
     "output_type": "stream",
     "text": [
      "INFO:     Started server process [1828]\n",
      "INFO:     Waiting for application startup.\n",
      "INFO:     Application startup complete.\n",
      "INFO:     Uvicorn running on http://127.0.0.1:8000 (Press CTRL+C to quit)\n"
     ]
    },
    {
     "name": "stdout",
     "output_type": "stream",
     "text": [
      "INFO:     127.0.0.1:50957 - \"GET / HTTP/1.1\" 200 OK\n",
      "INFO:     127.0.0.1:50957 - \"GET /favicon.ico HTTP/1.1\" 404 Not Found\n"
     ]
    }
   ],
   "source": [
    "from fastapi import FastAPI  # Importa la clase FastAPI desde el módulo fastapi\n",
    "\n",
    "app = FastAPI()  # Crea una instancia de la clase FastAPI y la asigna a la variable app. Esta instancia representa la aplicación web.\n",
    "\n",
    "@app.get(\"/\")  # Decorador que indica que la función root() se ejecutará cuando se reciba una solicitud HTTP GET en la ruta raíz (\"/\").\n",
    "async def root():  # Define una función asíncrona llamada root(). \"async\" permite que FastAPI maneje múltiples solicitudes concurrentes de manera eficiente.\n",
    "    return {\"message\": \"¡Hola Mundo!\"}  # Retorna un diccionario de Python. FastAPI lo convertirá automáticamente a formato JSON y lo enviará como respuesta HTTP"
   ]
  },
  {
   "cell_type": "markdown",
   "id": "68a8df7b-aaa9-4866-a798-91664c7eb152",
   "metadata": {},
   "source": [
    "Este código le dice a la computadora que cuando alguien le pregunte por \"/\", responda \"¡Hola Mundo!\"."
   ]
  },
  {
   "cell_type": "markdown",
   "id": "a8219239-6720-4a87-83d4-599a31d2f61b",
   "metadata": {},
   "source": [
    "## **Endpoints y métodos HTTP⚙:**"
   ]
  },
  {
   "cell_type": "markdown",
   "id": "a6a06a95-ee59-46ff-b01c-6255505e6913",
   "metadata": {},
   "source": [
    "Los \"endpoints\" son como las mesas de nuestro restaurante. Cada mesa tiene un número (ruta) y un tipo de pedido (método HTTP).\n",
    "\n",
    "Los métodos HTTP son los tipos de pedidos:\n",
    "+ GET: Pedir información (como ver el menú).\n",
    "+ POST: Enviar información (como hacer un pedido).\n",
    "+ PUT: Actualizar información (como cambiar un pedido).\n",
    "+ DELETE: Eliminar información (como cancelar un pedido)."
   ]
  },
  {
   "cell_type": "markdown",
   "id": "d0040f70-d8b5-47ae-a964-a3e66ea5e4bf",
   "metadata": {},
   "source": [
    "## **Parámetros y respuestas🗃:**"
   ]
  },
  {
   "cell_type": "markdown",
   "id": "9b53ce5f-d9ae-4149-b8cc-b136c2008770",
   "metadata": {},
   "source": [
    "Podemos pedirle al \"camarero\" que nos traiga información específica usando \"parámetros\".\n",
    "\n",
    "Por ejemplo, podemos pedirle un saludo personalizado:"
   ]
  },
  {
   "cell_type": "code",
   "execution_count": null,
   "id": "3caef5f6-0b08-4b40-8f6d-735fc80cbd03",
   "metadata": {},
   "outputs": [],
   "source": [
    "@app.get(\"/saludo/{nombre}\")  # Decorador que define una ruta GET \"/saludo/{nombre}\"\n",
    "async def saludo(nombre: str):  # Función asíncrona llamada saludo que recibe un parámetro 'nombre' de tipo string\n",
    "    return {\"message\": f\"¡Hola {nombre}!\"}  # Retorna un diccionario con un mensaje de saludo formateado con el nombre"
   ]
  },
  {
   "cell_type": "markdown",
   "id": "cd45691f-468e-4b2b-9ca4-b3b4985503cd",
   "metadata": {},
   "source": [
    "Si alguien visita \"/saludo/Juan\", el \"camarero\" responderá \"¡Hola Juan!\"."
   ]
  },
  {
   "cell_type": "markdown",
   "id": "3ed6bbf7-0617-4639-ad23-c2ac964f8f79",
   "metadata": {},
   "source": [
    "## **Documentación automática🚂:**"
   ]
  },
  {
   "cell_type": "markdown",
   "id": "bb634808-43ea-4a13-81dd-532ce002a883",
   "metadata": {},
   "source": [
    "\n",
    "\n",
    "FastAPI es tan inteligente que crea automáticamente un menú (documentación) de nuestro \"camarero\" digital.\n",
    "Podemos ver este menú visitando \"/docs\" en nuestro navegador.\n",
    "\n"
   ]
  },
  {
   "cell_type": "markdown",
   "id": "77762ddc-6312-4783-93df-bea9687efb73",
   "metadata": {
    "jp-MarkdownHeadingCollapsed": true
   },
   "source": [
    "## **Despliegue de la API🤵:**\n"
   ]
  },
  {
   "cell_type": "markdown",
   "id": "efdc3211-983a-4246-834c-6566729f3231",
   "metadata": {},
   "source": [
    "Para que nuestro \"camarero\" pueda atender a todo el mundo, necesitamos ponerlo en un servidor.\n",
    "Podemos usar Uvicorn para esto: ` uvicorn main:app --reload `"
   ]
  }
 ],
 "metadata": {
  "kernelspec": {
   "display_name": "Python 3 (ipykernel)",
   "language": "python",
   "name": "python3"
  },
  "language_info": {
   "codemirror_mode": {
    "name": "ipython",
    "version": 3
   },
   "file_extension": ".py",
   "mimetype": "text/x-python",
   "name": "python",
   "nbconvert_exporter": "python",
   "pygments_lexer": "ipython3",
   "version": "3.12.2"
  }
 },
 "nbformat": 4,
 "nbformat_minor": 5
}
